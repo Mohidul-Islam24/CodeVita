{
  "nbformat": 4,
  "nbformat_minor": 0,
  "metadata": {
    "colab": {
      "name": "Constellation_codevita.ipynb",
      "provenance": [],
      "authorship_tag": "ABX9TyN0aS+sbk2XrXCpxByeeWTq",
      "include_colab_link": true
    },
    "kernelspec": {
      "name": "python3",
      "display_name": "Python 3"
    }
  },
  "cells": [
    {
      "cell_type": "markdown",
      "metadata": {
        "id": "view-in-github",
        "colab_type": "text"
      },
      "source": [
        "<a href=\"https://colab.research.google.com/github/mohi1997/CodeVita/blob/main/Constellation_codevita.ipynb\" target=\"_parent\"><img src=\"https://colab.research.google.com/assets/colab-badge.svg\" alt=\"Open In Colab\"/></a>"
      ]
    },
    {
      "cell_type": "code",
      "metadata": {
        "id": "grcmvP-Ln7qs",
        "outputId": "b6985f75-d582-4e1a-8840-e3afe81b527a",
        "colab": {
          "base_uri": "https://localhost:8080/",
          "height": 34
        }
      },
      "source": [
        "n =3\n",
        "#m = int(input(\"number of colume :\")) #take the number of colume from user as input\n",
        "m=12\n",
        "#lst = [[input(i) for i in range(m)]for j in range(n)] # to take the input from user\n",
        "lst = [['*' ,'.', '*', '#','.', '*', '*', '*', '#', '.', '*', '.'], ['*', '.', '*', '#' ,'.' ,'.', '*' ,'.', '#' ,'*', '*' ,'*'], ['*', '*', '*', '#', '.', '*', '*', '*', '#', '*' ,'.', '*']]\n",
        "print(lst)"
      ],
      "execution_count": 6,
      "outputs": [
        {
          "output_type": "stream",
          "text": [
            "[['*', '.', '*', '#', '.', '*', '*', '*', '#', '.', '*', '.'], ['*', '.', '*', '#', '.', '.', '*', '.', '#', '*', '*', '*'], ['*', '*', '*', '#', '.', '*', '*', '*', '#', '*', '.', '*']]\n"
          ],
          "name": "stdout"
        }
      ]
    },
    {
      "cell_type": "code",
      "metadata": {
        "id": "eSLzyTfMoDfr",
        "outputId": "edaf8e61-e0fa-4afd-edb0-185fb0ce640b",
        "colab": {
          "base_uri": "https://localhost:8080/",
          "height": 35
        }
      },
      "source": [
        "lst[0][0]"
      ],
      "execution_count": 7,
      "outputs": [
        {
          "output_type": "execute_result",
          "data": {
            "application/vnd.google.colaboratory.intrinsic+json": {
              "type": "string"
            },
            "text/plain": [
              "'*'"
            ]
          },
          "metadata": {
            "tags": []
          },
          "execution_count": 7
        }
      ]
    },
    {
      "cell_type": "code",
      "metadata": {
        "id": "my_Vpe77YcIa",
        "outputId": "b813687f-ba12-49a5-9bd3-ab4eabb8c124",
        "colab": {
          "base_uri": "https://localhost:8080/",
          "height": 34
        }
      },
      "source": [
        "for i in range(m):\n",
        "  if(lst[0][i]==\"#\" and lst[1][i]==\"#\" and lst[2][i]==\"#\"):\n",
        "    print(\"#\",end='')\n",
        "  else:\n",
        "    while (i < m-2):\n",
        "      if(lst[0][i]==\"*\" and lst[0][i+1]==\"*\" and lst[0][i+2]==\"*\" and lst[1][i]==\"*\" and lst[1][i+1]==\"*\" and lst[1][i+2]==\"*\" and lst[2][i]==\"*\" and lst[2][i+1]==\"*\" and lst[2][i+2]==\"*\"):\n",
        "        print(\"E\",end='')\n",
        "        i += 2\n",
        "      elif (lst[0][i]==\".\" and lst[0][i+1]==\"*\" and lst[0][i+2]==\".\" and lst[1][i]==\"*\" and lst[1][i+1]==\"*\" and lst[1][i+2]==\"*\" and lst[2][i]==\"*\" and lst[2][i+1]==\".\" and lst[2][i+2]==\"*\"):\n",
        "        print(\"A\",end='')\n",
        "        i += 2\n",
        "      elif (lst[0][i]==\"*\" and lst[0][i+1]==\"*\" and lst[0][i+2]==\"*\" and lst[1][i]==\".\" and lst[1][i+1]==\"*\" and lst[1][i+2]==\".\" and lst[2][i]==\"*\" and lst[2][i+1]==\"*\" and lst[2][i+2]==\"*\"):\n",
        "        print(\"I\",end='')\n",
        "        i +=2\n",
        "      elif (lst[0][i]==\"*\" and lst[0][i+1]==\"*\" and lst[0][i+2]==\"*\" and lst[1][i]==\"*\" and lst[1][i+1]==\".\" and lst[1][i+2]==\"*\" and lst[2][i]==\"*\" and lst[2][i+1]==\"*\" and lst[2][i+2]==\"*\"):\n",
        "        print(\"O\",end='')\n",
        "        i +=2\n",
        "      elif (lst[0][i]==\"*\" and lst[0][i+1]==\".\" and lst[0][i+2]==\"*\" and lst[1][i]==\"*\" and lst[1][i+1]==\".\" and lst[1][i+2]==\"*\" and lst[2][i]==\"*\" and lst[2][i+1]==\"*\" and lst[2][i+2]==\"*\"):\n",
        "        print(\"U\",end='')\n",
        "        i +=2\n",
        "      else:\n",
        "        break\n",
        "  "
      ],
      "execution_count": 8,
      "outputs": [
        {
          "output_type": "stream",
          "text": [
            "U#I#A"
          ],
          "name": "stdout"
        }
      ]
    },
    {
      "cell_type": "code",
      "metadata": {
        "id": "C8YaUXM2659s"
      },
      "source": [
        ""
      ],
      "execution_count": null,
      "outputs": []
    }
  ]
}